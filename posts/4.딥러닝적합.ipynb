{
 "cells": [
  {
   "cell_type": "raw",
   "id": "a1fad278-16e9-4fed-908a-d7362012aa17",
   "metadata": {},
   "source": [
    "---\n",
    "title: \"4. 딥러닝 적합\"\n",
    "author: \"이상민\"\n",
    "date: \"03/31/2025\"\n",
    "---"
   ]
  },
  {
   "cell_type": "code",
   "execution_count": null,
   "id": "3828344a-2281-4b8d-908f-c0ff1a327d7d",
   "metadata": {},
   "outputs": [],
   "source": []
  },
  {
   "cell_type": "code",
   "execution_count": null,
   "id": "c9878661-b6f5-4e34-bc4a-7ae96047dd5a",
   "metadata": {},
   "outputs": [],
   "source": []
  },
  {
   "cell_type": "code",
   "execution_count": null,
   "id": "f632dd04-721a-45ba-8df1-f3ee91f65237",
   "metadata": {},
   "outputs": [],
   "source": []
  },
  {
   "cell_type": "code",
   "execution_count": null,
   "id": "36c12fdb-4dff-497c-b6e7-f2360bbd4c9e",
   "metadata": {},
   "outputs": [],
   "source": []
  }
 ],
 "metadata": {
  "kernelspec": {
   "display_name": "Python 3 (ipykernel)",
   "language": "python",
   "name": "python3"
  },
  "language_info": {
   "codemirror_mode": {
    "name": "ipython",
    "version": 3
   },
   "file_extension": ".py",
   "mimetype": "text/x-python",
   "name": "python",
   "nbconvert_exporter": "python",
   "pygments_lexer": "ipython3",
   "version": "3.10.12"
  }
 },
 "nbformat": 4,
 "nbformat_minor": 5
}
