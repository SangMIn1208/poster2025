{
 "cells": [
  {
   "cell_type": "raw",
   "id": "d6668318-d04b-4795-98c7-ef860f4fa88c",
   "metadata": {},
   "source": [
    "---\n",
    "title: \"5. Neural Granger Causality\"\n",
    "author: \"이상민\"\n",
    "date: \"04/01/2025\"\n",
    "---"
   ]
  },
  {
   "cell_type": "markdown",
   "id": "71615e74-fde0-41df-9f39-28ecd9b38362",
   "metadata": {},
   "source": [
    "### 1. Linear Granger causality"
   ]
  },
  {
   "cell_type": "markdown",
   "id": "ae3967ee-34db-445d-af16-58bf496bfd43",
   "metadata": {},
   "source": [
    "* Granger causality : 한 시계열의 과거 값이 다른 시계열이 미래 값을 예측하는데 도움이 되는지를 평가하는 개념\n",
    "* VAR(Vector Autogressive Regression)모델\n",
    "    * Granger causality를 분석하는 가장 기본적인 방법\n",
    "    * 시계열 데이터 표현 $x_t=\\sum_{k=1}^{K}A^{(k)}x_{t-k}+\\epsilon_t$\n",
    "    * $x_{t}$ : 시점 t에서의 다변량 시계열 데이터(p개의 변수 포함)\n",
    "    * k : 최대 시차\n",
    "    * $A^{(k)}$ : 시차 k에서의 계수행렬(pxp크기)\n",
    "    * $e_t$ : 평균이 0인 잡음\n",
    "* 인과성 판단 기준 - 특정 시계열 j가 다른 시계열 i의 미래를 예측하는데 기여하는지를 확인\n",
    "    * $A^k_{ij}=0$이면, 시계열 j는 시계열 i에 대해 Granger 비인과적\n",
    "    * $A^k_{ij}\\neq 0$이면, 시계열 j는 시계열 i에 대해 Granger 인과적"
   ]
  },
  {
   "cell_type": "markdown",
   "id": "36022aca-2377-4788-972e-868f5c824b81",
   "metadata": {},
   "source": [
    "* 희소성 유도 패널티 적용\n",
    "* 너무 많은 변수를 고려하면 과적합문제 발생->Lasso,Group Lasso 패널티를 적용하여 불필요한 계수 0으로\n",
    "    * Group Lasso 패널티 : 결과적으로 희소한 Granger 인과 네트워크를 학습\n",
    "        * $min_{A(1),...,A(K)}\\sum_{t=K}^{T}||x_t-\\sum_{k=1}^{K}A^{(k)}x_{t-k}||^2_2+\\lambda\\sum_{ij}||(A^{(1)}_{ij},...,A^{K}_{ij}||_2,$\n",
    "    * 계층적 패널티 : 너무 긴 시차를 사용하면 과적합이 발생할 수 있으므로 모델이 적절한 시차로 학습해아함"
   ]
  },
  {
   "cell_type": "markdown",
   "id": "d0603249-8d17-488f-a75c-f1d914233b00",
   "metadata": {},
   "source": [
    "* VAR은 선형적 관계에서만 가정, 비선형 데이터는 한계\n",
    "* --> Neural Granger Causality 기법 필요"
   ]
  },
  {
   "cell_type": "markdown",
   "id": "c235da0a-dc11-4e9d-8388-eb6be1aede00",
   "metadata": {},
   "source": [
    "### 2. Models for Neural Granger Causality"
   ]
  },
  {
   "cell_type": "markdown",
   "id": "ed728695-3812-4a8c-b49d-ae324c9ddbc4",
   "metadata": {},
   "source": []
  },
  {
   "cell_type": "markdown",
   "id": "49a45133-fd7f-491b-bd2d-34bddf75d6e1",
   "metadata": {},
   "source": []
  },
  {
   "cell_type": "markdown",
   "id": "d1739de1-302c-40ef-a3e9-5d2ad6137f66",
   "metadata": {},
   "source": []
  },
  {
   "cell_type": "markdown",
   "id": "373acf4d-d9f4-4cd8-a855-5368a67625a4",
   "metadata": {},
   "source": []
  },
  {
   "cell_type": "markdown",
   "id": "b3e68c7a-a235-42fa-b8f1-a2e0a3c42634",
   "metadata": {},
   "source": []
  },
  {
   "cell_type": "markdown",
   "id": "02796b2d-15c2-45e1-878e-cf6be7941638",
   "metadata": {},
   "source": []
  },
  {
   "cell_type": "markdown",
   "id": "a9a996c5-c36b-420e-b789-7b539945cb74",
   "metadata": {},
   "source": []
  }
 ],
 "metadata": {
  "kernelspec": {
   "display_name": "Python 3 (ipykernel)",
   "language": "python",
   "name": "python3"
  },
  "language_info": {
   "codemirror_mode": {
    "name": "ipython",
    "version": 3
   },
   "file_extension": ".py",
   "mimetype": "text/x-python",
   "name": "python",
   "nbconvert_exporter": "python",
   "pygments_lexer": "ipython3",
   "version": "3.10.12"
  }
 },
 "nbformat": 4,
 "nbformat_minor": 5
}
