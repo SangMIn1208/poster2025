{
 "cells": [
  {
   "cell_type": "raw",
   "id": "26475082-6e92-4048-926e-2a5e54b7be0b",
   "metadata": {},
   "source": [
    "---\n",
    "title: \"3. granger 논문 읽기\"\n",
    "author: \"이상민\"\n",
    "date: \"03/31/2025\"\n",
    "---"
   ]
  },
  {
   "cell_type": "markdown",
   "id": "c9d31c00-2979-4734-ae71-7945c7bc086c",
   "metadata": {},
   "source": []
  },
  {
   "cell_type": "markdown",
   "id": "1023a99e-b32d-47c0-bf30-3b11d21e0e13",
   "metadata": {},
   "source": []
  },
  {
   "cell_type": "markdown",
   "id": "c2470e52-8583-4d69-a7ab-5c59b7d8e764",
   "metadata": {},
   "source": []
  },
  {
   "cell_type": "markdown",
   "id": "10cc9f8d-7b3d-4c9d-91da-4320492234b6",
   "metadata": {},
   "source": []
  },
  {
   "cell_type": "markdown",
   "id": "5f50cbe0-499b-43d5-8d04-b15daa833f0f",
   "metadata": {},
   "source": []
  }
 ],
 "metadata": {
  "kernelspec": {
   "display_name": "Python 3 (ipykernel)",
   "language": "python",
   "name": "python3"
  },
  "language_info": {
   "codemirror_mode": {
    "name": "ipython",
    "version": 3
   },
   "file_extension": ".py",
   "mimetype": "text/x-python",
   "name": "python",
   "nbconvert_exporter": "python",
   "pygments_lexer": "ipython3",
   "version": "3.10.12"
  }
 },
 "nbformat": 4,
 "nbformat_minor": 5
}
