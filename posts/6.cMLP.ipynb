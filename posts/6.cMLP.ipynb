{
 "cells": [
  {
   "cell_type": "raw",
   "id": "06c71099-fe20-4cfb-8a29-cdce3817c8da",
   "metadata": {},
   "source": [
    "---\n",
    "title: \"6. cMLP\"\n",
    "author: \"이상민\"\n",
    "date: \"04/02/2025\"\n",
    "---"
   ]
  },
  {
   "cell_type": "code",
   "execution_count": 1,
   "id": "3a69683c-54ba-446c-8197-17b9e9d9510a",
   "metadata": {},
   "outputs": [],
   "source": [
    "import torch\n",
    "import numpy as np\n",
    "import matplotlib.pyplot as plt\n",
    "from synthetic import simulate_var\n",
    "from models.cmlp import cMLP, cMLPSparse, train_model_ista, train_unregularized"
   ]
  },
  {
   "cell_type": "code",
   "execution_count": 2,
   "id": "bd9005d2-bfea-41a1-bce1-f9444149efd2",
   "metadata": {},
   "outputs": [],
   "source": [
    "import pandas as pd"
   ]
  },
  {
   "cell_type": "code",
   "execution_count": 3,
   "id": "6ecd7d0c-ef01-4bf7-b381-aa0146ef7e30",
   "metadata": {},
   "outputs": [],
   "source": [
    "# For GPU acceleration\n",
    "device = torch.device('cuda')"
   ]
  },
  {
   "cell_type": "code",
   "execution_count": 4,
   "id": "ed71061a-0b02-46e8-ac13-fe8432d48d4e",
   "metadata": {},
   "outputs": [],
   "source": [
    "# Simulate data\n",
    "#X_np, beta, GC = simulate_var(p=10, T=1000, lag=3)\n",
    "#X = torch.tensor(X_np[np.newaxis], dtype=torch.float32, device=device)"
   ]
  },
  {
   "cell_type": "code",
   "execution_count": 5,
   "id": "af95720f-c7bb-4f31-b904-99ef2185ffa4",
   "metadata": {},
   "outputs": [],
   "source": [
    "wt = pd.read_csv(\"weather2024.csv\")"
   ]
  },
  {
   "cell_type": "code",
   "execution_count": 6,
   "id": "7283d4d5-7ff0-4207-8821-76cd90328480",
   "metadata": {
    "scrolled": true
   },
   "outputs": [
    {
     "data": {
      "text/html": [
       "<div>\n",
       "<style scoped>\n",
       "    .dataframe tbody tr th:only-of-type {\n",
       "        vertical-align: middle;\n",
       "    }\n",
       "\n",
       "    .dataframe tbody tr th {\n",
       "        vertical-align: top;\n",
       "    }\n",
       "\n",
       "    .dataframe thead th {\n",
       "        text-align: right;\n",
       "    }\n",
       "</style>\n",
       "<table border=\"1\" class=\"dataframe\">\n",
       "  <thead>\n",
       "    <tr style=\"text-align: right;\">\n",
       "      <th></th>\n",
       "      <th>일시</th>\n",
       "      <th>기온</th>\n",
       "      <th>강수량</th>\n",
       "      <th>풍속</th>\n",
       "      <th>습도</th>\n",
       "      <th>일사</th>\n",
       "    </tr>\n",
       "  </thead>\n",
       "  <tbody>\n",
       "    <tr>\n",
       "      <th>0</th>\n",
       "      <td>2024-01-01 01:00</td>\n",
       "      <td>3.8</td>\n",
       "      <td>0.0</td>\n",
       "      <td>1.5</td>\n",
       "      <td>80</td>\n",
       "      <td>0.0</td>\n",
       "    </tr>\n",
       "    <tr>\n",
       "      <th>1</th>\n",
       "      <td>2024-01-01 02:00</td>\n",
       "      <td>3.9</td>\n",
       "      <td>0.0</td>\n",
       "      <td>0.2</td>\n",
       "      <td>79</td>\n",
       "      <td>0.0</td>\n",
       "    </tr>\n",
       "    <tr>\n",
       "      <th>2</th>\n",
       "      <td>2024-01-01 03:00</td>\n",
       "      <td>3.5</td>\n",
       "      <td>0.0</td>\n",
       "      <td>0.4</td>\n",
       "      <td>84</td>\n",
       "      <td>0.0</td>\n",
       "    </tr>\n",
       "    <tr>\n",
       "      <th>3</th>\n",
       "      <td>2024-01-01 04:00</td>\n",
       "      <td>1.9</td>\n",
       "      <td>0.0</td>\n",
       "      <td>1.1</td>\n",
       "      <td>92</td>\n",
       "      <td>0.0</td>\n",
       "    </tr>\n",
       "    <tr>\n",
       "      <th>4</th>\n",
       "      <td>2024-01-01 05:00</td>\n",
       "      <td>1.4</td>\n",
       "      <td>0.0</td>\n",
       "      <td>1.5</td>\n",
       "      <td>94</td>\n",
       "      <td>0.0</td>\n",
       "    </tr>\n",
       "    <tr>\n",
       "      <th>...</th>\n",
       "      <td>...</td>\n",
       "      <td>...</td>\n",
       "      <td>...</td>\n",
       "      <td>...</td>\n",
       "      <td>...</td>\n",
       "      <td>...</td>\n",
       "    </tr>\n",
       "    <tr>\n",
       "      <th>8755</th>\n",
       "      <td>2024-12-30 20:00</td>\n",
       "      <td>7.6</td>\n",
       "      <td>0.0</td>\n",
       "      <td>1.4</td>\n",
       "      <td>71</td>\n",
       "      <td>0.0</td>\n",
       "    </tr>\n",
       "    <tr>\n",
       "      <th>8756</th>\n",
       "      <td>2024-12-30 21:00</td>\n",
       "      <td>7.5</td>\n",
       "      <td>0.0</td>\n",
       "      <td>1.7</td>\n",
       "      <td>69</td>\n",
       "      <td>0.0</td>\n",
       "    </tr>\n",
       "    <tr>\n",
       "      <th>8757</th>\n",
       "      <td>2024-12-30 22:00</td>\n",
       "      <td>7.2</td>\n",
       "      <td>0.0</td>\n",
       "      <td>1.2</td>\n",
       "      <td>70</td>\n",
       "      <td>0.0</td>\n",
       "    </tr>\n",
       "    <tr>\n",
       "      <th>8758</th>\n",
       "      <td>2024-12-30 23:00</td>\n",
       "      <td>7.2</td>\n",
       "      <td>0.0</td>\n",
       "      <td>1.7</td>\n",
       "      <td>71</td>\n",
       "      <td>0.0</td>\n",
       "    </tr>\n",
       "    <tr>\n",
       "      <th>8759</th>\n",
       "      <td>2024-12-31 00:00</td>\n",
       "      <td>7.4</td>\n",
       "      <td>0.0</td>\n",
       "      <td>2.8</td>\n",
       "      <td>70</td>\n",
       "      <td>0.0</td>\n",
       "    </tr>\n",
       "  </tbody>\n",
       "</table>\n",
       "<p>8760 rows × 6 columns</p>\n",
       "</div>"
      ],
      "text/plain": [
       "                    일시   기온  강수량   풍속  습도   일사\n",
       "0     2024-01-01 01:00  3.8  0.0  1.5  80  0.0\n",
       "1     2024-01-01 02:00  3.9  0.0  0.2  79  0.0\n",
       "2     2024-01-01 03:00  3.5  0.0  0.4  84  0.0\n",
       "3     2024-01-01 04:00  1.9  0.0  1.1  92  0.0\n",
       "4     2024-01-01 05:00  1.4  0.0  1.5  94  0.0\n",
       "...                ...  ...  ...  ...  ..  ...\n",
       "8755  2024-12-30 20:00  7.6  0.0  1.4  71  0.0\n",
       "8756  2024-12-30 21:00  7.5  0.0  1.7  69  0.0\n",
       "8757  2024-12-30 22:00  7.2  0.0  1.2  70  0.0\n",
       "8758  2024-12-30 23:00  7.2  0.0  1.7  71  0.0\n",
       "8759  2024-12-31 00:00  7.4  0.0  2.8  70  0.0\n",
       "\n",
       "[8760 rows x 6 columns]"
      ]
     },
     "execution_count": 6,
     "metadata": {},
     "output_type": "execute_result"
    }
   ],
   "source": [
    "wt"
   ]
  },
  {
   "cell_type": "code",
   "execution_count": 8,
   "id": "6c2ab75f-3d89-460c-81d0-6d4cec92cc25",
   "metadata": {},
   "outputs": [],
   "source": [
    "X_np = wt.iloc[:, 1:].values"
   ]
  },
  {
   "cell_type": "code",
   "execution_count": 9,
   "id": "c7317502-ac2f-4daf-97be-036f2acd474d",
   "metadata": {},
   "outputs": [],
   "source": [
    "X = torch.tensor(X_np[np.newaxis], dtype=torch.float32, device=device)"
   ]
  },
  {
   "cell_type": "code",
   "execution_count": 11,
   "id": "a6ac620c-a3b7-4e8e-afb2-d814c9182c0c",
   "metadata": {},
   "outputs": [],
   "source": [
    "# Set up model\n",
    "cmlp = cMLP(X.shape[-1], lag=5, hidden=[100]).cuda(device=device)"
   ]
  },
  {
   "cell_type": "code",
   "execution_count": 12,
   "id": "1d1b498a-11c0-45fa-a6fc-f639dd50c376",
   "metadata": {},
   "outputs": [
    {
     "name": "stdout",
     "output_type": "stream",
     "text": [
      "----------Iter = 100----------\n",
      "Loss = nan\n",
      "Variable usage = 80.00%\n"
     ]
    },
    {
     "ename": "TypeError",
     "evalue": "unsupported operand type(s) for -: 'int' and 'NoneType'",
     "output_type": "error",
     "traceback": [
      "\u001b[0;31m---------------------------------------------------------------------------\u001b[0m",
      "\u001b[0;31mTypeError\u001b[0m                                 Traceback (most recent call last)",
      "Cell \u001b[0;32mIn[12], line 2\u001b[0m\n\u001b[1;32m      1\u001b[0m \u001b[38;5;66;03m# Train with ISTA\u001b[39;00m\n\u001b[0;32m----> 2\u001b[0m train_loss_list \u001b[38;5;241m=\u001b[39m \u001b[43mtrain_model_ista\u001b[49m\u001b[43m(\u001b[49m\n\u001b[1;32m      3\u001b[0m \u001b[43m    \u001b[49m\u001b[43mcmlp\u001b[49m\u001b[43m,\u001b[49m\u001b[43m \u001b[49m\u001b[43mX\u001b[49m\u001b[43m,\u001b[49m\u001b[43m \u001b[49m\u001b[43mlam\u001b[49m\u001b[38;5;241;43m=\u001b[39;49m\u001b[38;5;241;43m0.002\u001b[39;49m\u001b[43m,\u001b[49m\u001b[43m \u001b[49m\u001b[43mlam_ridge\u001b[49m\u001b[38;5;241;43m=\u001b[39;49m\u001b[38;5;241;43m1e-2\u001b[39;49m\u001b[43m,\u001b[49m\u001b[43m \u001b[49m\u001b[43mlr\u001b[49m\u001b[38;5;241;43m=\u001b[39;49m\u001b[38;5;241;43m5e-2\u001b[39;49m\u001b[43m,\u001b[49m\u001b[43m \u001b[49m\u001b[43mpenalty\u001b[49m\u001b[38;5;241;43m=\u001b[39;49m\u001b[38;5;124;43m'\u001b[39;49m\u001b[38;5;124;43mH\u001b[39;49m\u001b[38;5;124;43m'\u001b[39;49m\u001b[43m,\u001b[49m\u001b[43m \u001b[49m\u001b[43mmax_iter\u001b[49m\u001b[38;5;241;43m=\u001b[39;49m\u001b[38;5;241;43m50000\u001b[39;49m\u001b[43m,\u001b[49m\n\u001b[1;32m      4\u001b[0m \u001b[43m    \u001b[49m\u001b[43mcheck_every\u001b[49m\u001b[38;5;241;43m=\u001b[39;49m\u001b[38;5;241;43m100\u001b[39;49m\u001b[43m)\u001b[49m\n",
      "File \u001b[0;32m~/python_project/3-1/poster/Neural-GC/models/cmlp.py:507\u001b[0m, in \u001b[0;36mtrain_model_ista\u001b[0;34m(cmlp, X, lr, max_iter, lam, lam_ridge, penalty, lookback, check_every, verbose)\u001b[0m\n\u001b[1;32m    505\u001b[0m     best_it \u001b[38;5;241m=\u001b[39m it\n\u001b[1;32m    506\u001b[0m     best_model \u001b[38;5;241m=\u001b[39m deepcopy(cmlp)\n\u001b[0;32m--> 507\u001b[0m \u001b[38;5;28;01melif\u001b[39;00m (\u001b[43mit\u001b[49m\u001b[43m \u001b[49m\u001b[38;5;241;43m-\u001b[39;49m\u001b[43m \u001b[49m\u001b[43mbest_it\u001b[49m) \u001b[38;5;241m==\u001b[39m lookback \u001b[38;5;241m*\u001b[39m check_every:\n\u001b[1;32m    508\u001b[0m     \u001b[38;5;28;01mif\u001b[39;00m verbose:\n\u001b[1;32m    509\u001b[0m         \u001b[38;5;28mprint\u001b[39m(\u001b[38;5;124m'\u001b[39m\u001b[38;5;124mStopping early\u001b[39m\u001b[38;5;124m'\u001b[39m)\n",
      "\u001b[0;31mTypeError\u001b[0m: unsupported operand type(s) for -: 'int' and 'NoneType'"
     ]
    }
   ],
   "source": [
    "# Train with ISTA\n",
    "train_loss_list = train_model_ista(\n",
    "    cmlp, X, lam=0.002, lam_ridge=1e-2, lr=5e-2, penalty='H', max_iter=50000,\n",
    "    check_every=100)"
   ]
  },
  {
   "cell_type": "code",
   "execution_count": null,
   "id": "4c8c2f4a-4f74-4421-aa19-991ea49cf208",
   "metadata": {},
   "outputs": [],
   "source": []
  },
  {
   "cell_type": "code",
   "execution_count": null,
   "id": "f1b3cee6-d64c-49a8-b779-cc1c83b1997d",
   "metadata": {},
   "outputs": [],
   "source": []
  },
  {
   "cell_type": "code",
   "execution_count": null,
   "id": "0a206ecd-695a-400e-aa43-bcb2b8aae786",
   "metadata": {},
   "outputs": [],
   "source": []
  },
  {
   "cell_type": "code",
   "execution_count": null,
   "id": "c4ff151e-757e-4f85-a2e5-b18387d90126",
   "metadata": {},
   "outputs": [],
   "source": []
  },
  {
   "cell_type": "code",
   "execution_count": null,
   "id": "48a8eb7b-bf25-4e0b-9f3b-98b450f00d55",
   "metadata": {},
   "outputs": [],
   "source": []
  },
  {
   "cell_type": "code",
   "execution_count": null,
   "id": "457f61ef-d3af-4eff-a64c-4c7866065eea",
   "metadata": {},
   "outputs": [],
   "source": []
  },
  {
   "cell_type": "code",
   "execution_count": null,
   "id": "bc3a3e9c-3019-44fd-9976-88c0bc0b840a",
   "metadata": {},
   "outputs": [],
   "source": []
  }
 ],
 "metadata": {
  "kernelspec": {
   "display_name": "Python 3 (ipykernel)",
   "language": "python",
   "name": "python3"
  },
  "language_info": {
   "codemirror_mode": {
    "name": "ipython",
    "version": 3
   },
   "file_extension": ".py",
   "mimetype": "text/x-python",
   "name": "python",
   "nbconvert_exporter": "python",
   "pygments_lexer": "ipython3",
   "version": "3.10.12"
  }
 },
 "nbformat": 4,
 "nbformat_minor": 5
}
